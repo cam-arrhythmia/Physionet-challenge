{
 "cells": [
  {
   "cell_type": "markdown",
   "metadata": {},
   "source": [
    "# loading data\n",
    "\n",
    "loads data in a dictionary with 4 labels and normalise it (or normalise it later)"
   ]
  },
  {
   "cell_type": "code",
   "execution_count": 2,
   "metadata": {},
   "outputs": [],
   "source": [
    "import os\n",
    "import scipy.io\n",
    "import numpy as np\n",
    "\n",
    "raw_data = {'normal': [], 'af': [], 'other': [], 'noisy': []}\n",
    "raw_val_data = {'normal': [], 'af': [], 'other': [], 'noisy': []}\n",
    "\n",
    "training_dir = os.path.join('..', 'data', 'training')\n",
    "validation_dir = os.path.join('..', 'data', 'validation')\n",
    "\n",
    "for Dir in [training_dir, validation_dir]:\n",
    "    for Class in ['normal', 'af', 'other', 'noisy']:\n",
    "        class_dir = os.path.join(Dir, Class)\n",
    "        for file in [os.path.join(class_dir, _) for _ in os.listdir(class_dir) if _.endswith('.mat')]:\n",
    "            mat_data = scipy.io.loadmat(file)\n",
    "            sequence = mat_data['val'][0]\n",
    "            n_sequence = sequence\n",
    "            \n",
    "            if Dir == training_dir:\n",
    "                raw_data[Class].append(n_sequence)\n",
    "            else:\n",
    "                raw_val_data[Class].append(n_sequence)"
   ]
  },
  {
   "cell_type": "code",
   "execution_count": 3,
   "metadata": {},
   "outputs": [],
   "source": [
    "from scipy.signal import butter,filtfilt\n",
    "import math\n",
    "\n",
    "def butter_lowpass_filter(data, cutoff):\n",
    "    T = 10         # Sample Period\n",
    "    fs = 150      # sample rate, Hz\n",
    "    nyq = 0.5 * fs  # Nyquist Frequency\n",
    "    order = 2\n",
    "    n = int(T * fs) # total number of samples\n",
    "\n",
    "    normal_cutoff = cutoff / nyq\n",
    "    \n",
    "    # Get the filter coefficients \n",
    "    b, a = butter(order, normal_cutoff, btype='low', analog=False)\n",
    "    y = filtfilt(b, a, data)\n",
    "    return y\n",
    "\n",
    "def length_transfrom(x, w):\n",
    "    fs = 300\n",
    "    tmp = []\n",
    "    for i in range(w, len(x)):\n",
    "        curr = 0\n",
    "        for k in range(i-w+1, i):\n",
    "            curr += np.sqrt((20/fs)+np.power(x[k]-x[k-1],2))\n",
    "        tmp.append(curr)\n",
    "    l = [tmp[0]]*w\n",
    "    \n",
    "    return l+tmp\n",
    "\n",
    "def threshold(x):\n",
    "    u = np.mean(x)\n",
    "    peaks = []\n",
    "    fs = 300\n",
    "    for i in range(len(x)):\n",
    "        if (len(peaks) == 0 or i > peaks[-1]+(fs*0.18)) and x[i] > u:\n",
    "            peaks.append(i)\n",
    "    return peaks\n",
    "\n",
    "def _wqrs(x):\n",
    "    fs = 50\n",
    "    y = butter_lowpass_filter(x, 15)\n",
    "    y = length_transfrom(y, math.ceil(fs*.130))\n",
    "    return threshold(y)"
   ]
  },
  {
   "cell_type": "markdown",
   "metadata": {},
   "source": [
    "## pre-processing\n"
   ]
  },
  {
   "cell_type": "code",
   "execution_count": 9,
   "metadata": {},
   "outputs": [],
   "source": [
    "train_data = {'normal': [], 'af': [], 'other': [], 'noisy': []}\n",
    "val_data = {'normal': [], 'af': [], 'other': [], 'noisy': []}\n",
    "\n",
    "sampling_freq = 300\n",
    "down_freq = 300\n",
    "window_size = 5\n",
    "\n",
    "R = sampling_freq // down_freq\n",
    "\n",
    "for idx, data in enumerate([train_data, val_data]):\n",
    "    for key in data.keys():\n",
    "        tmp = raw_data if idx == 0 else raw_val_data\n",
    "        for d in tmp[key]:\n",
    "            for i in range(0, len(d)+window_size*(sampling_freq), window_size*(sampling_freq)):\n",
    "                if i+(window_size*(sampling_freq)) <= len(d):\n",
    "                    sequence = d[i:i+window_size*(sampling_freq)]\n",
    "                    normalised_sequence = (sequence - min(sequence)) / (max(sequence) - min(sequence))\n",
    "                    data[key].append(normalised_sequence)                \n",
    "                elif i < len(d):\n",
    "                    sequence = d[i:]\n",
    "                    sequence = np.pad(sequence, (0, window_size*sampling_freq-len(sequence)), 'reflect')\n",
    "                    normalised_sequence = (sequence - min(sequence)) / (max(sequence) - min(sequence))\n",
    "                    data[key].append(normalised_sequence)\n",
    "                data[key][-1] = data[key][-1].reshape(-1, R).mean(axis=1)\n",
    "                                \n",
    "train_data['normal'] = train_data['normal'][:725]\n",
    "train_data['af'] = train_data['af'][:425]\n",
    "train_data['other'] = train_data['other'][:300]\n",
    "train_data['noisy'] = train_data['noisy'][:1450]\n",
    "\n",
    "val_data['normal'] = val_data['normal'][:100]\n",
    "val_data['af'] = val_data['af'][:40]\n",
    "val_data['other'] = val_data['other'][:30]\n",
    "val_data['noisy'] = val_data['noisy'][:170]"
   ]
  },
  {
   "cell_type": "code",
   "execution_count": 10,
   "metadata": {},
   "outputs": [
    {
     "name": "stdout",
     "output_type": "stream",
     "text": [
      "-----\n",
      "\n",
      "normal: 725\n",
      "af: 425\n",
      "other: 300\n",
      "noisy: 1450 \n",
      "\n",
      "total: 2900\n",
      "-----\n",
      "\n",
      "normal: 100\n",
      "af: 40\n",
      "other: 30\n",
      "noisy: 160 \n",
      "\n",
      "total: 330\n"
     ]
    }
   ],
   "source": [
    "for data in [train_data, val_data]:\n",
    "    print('-----\\n')\n",
    "    print('normal:', len(data['normal']))\n",
    "    print('af:', len(data['af']))\n",
    "    print('other:', len(data['other']))\n",
    "    print('noisy:', len(data['noisy']), '\\n')\n",
    "    print('total:', len(data['normal']) + len(data['af']) + len(data['other']) + len(data['noisy']))\n"
   ]
  },
  {
   "cell_type": "code",
   "execution_count": 15,
   "metadata": {},
   "outputs": [
    {
     "name": "stdout",
     "output_type": "stream",
     "text": [
      "Collecting py-ecg-detectors\n",
      "  Downloading py_ecg_detectors-1.2.0-py3-none-any.whl (24 kB)\n",
      "Requirement already satisfied, skipping upgrade: numpy in /Users/Yoav2/opt/anaconda3/lib/python3.8/site-packages (from py-ecg-detectors) (1.19.2)\n",
      "Requirement already satisfied, skipping upgrade: scipy in /Users/Yoav2/opt/anaconda3/lib/python3.8/site-packages (from py-ecg-detectors) (1.5.2)\n",
      "Requirement already satisfied, skipping upgrade: gatspy in /Users/Yoav2/opt/anaconda3/lib/python3.8/site-packages (from py-ecg-detectors) (0.3)\n",
      "Requirement already satisfied, skipping upgrade: pywavelets in /Users/Yoav2/opt/anaconda3/lib/python3.8/site-packages (from py-ecg-detectors) (1.1.1)\n",
      "Installing collected packages: py-ecg-detectors\n",
      "  Attempting uninstall: py-ecg-detectors\n",
      "    Found existing installation: py-ecg-detectors 1.1.0\n",
      "    Uninstalling py-ecg-detectors-1.1.0:\n",
      "      Successfully uninstalled py-ecg-detectors-1.1.0\n",
      "Successfully installed py-ecg-detectors-1.2.0\n"
     ]
    }
   ],
   "source": [
    "!pip3 install py-ecg-detectors --upgrade"
   ]
  },
  {
   "cell_type": "code",
   "execution_count": 11,
   "metadata": {},
   "outputs": [
    {
     "name": "stderr",
     "output_type": "stream",
     "text": [
      "100%|██████████| 725/725 [00:35<00:00, 20.22it/s]\n",
      "100%|██████████| 425/425 [00:20<00:00, 20.97it/s]\n",
      "100%|██████████| 300/300 [00:14<00:00, 21.28it/s]\n",
      "100%|██████████| 1450/1450 [01:09<00:00, 20.87it/s]\n"
     ]
    },
    {
     "data": {
      "text/html": [
       "<div>\n",
       "<style scoped>\n",
       "    .dataframe tbody tr th:only-of-type {\n",
       "        vertical-align: middle;\n",
       "    }\n",
       "\n",
       "    .dataframe tbody tr th {\n",
       "        vertical-align: top;\n",
       "    }\n",
       "\n",
       "    .dataframe thead th {\n",
       "        text-align: right;\n",
       "    }\n",
       "</style>\n",
       "<table border=\"1\" class=\"dataframe\">\n",
       "  <thead>\n",
       "    <tr style=\"text-align: right;\">\n",
       "      <th></th>\n",
       "      <th>sSQI</th>\n",
       "      <th>kSQI</th>\n",
       "      <th>pSQI</th>\n",
       "      <th>basSQI</th>\n",
       "      <th>bSQI</th>\n",
       "      <th>rSQI</th>\n",
       "      <th>target</th>\n",
       "    </tr>\n",
       "  </thead>\n",
       "  <tbody>\n",
       "    <tr>\n",
       "      <th>0</th>\n",
       "      <td>1.591682</td>\n",
       "      <td>10.180201</td>\n",
       "      <td>0.677330</td>\n",
       "      <td>0.893694</td>\n",
       "      <td>0.857143</td>\n",
       "      <td>0.500000</td>\n",
       "      <td>0.0</td>\n",
       "    </tr>\n",
       "    <tr>\n",
       "      <th>1</th>\n",
       "      <td>3.487843</td>\n",
       "      <td>16.106743</td>\n",
       "      <td>0.654026</td>\n",
       "      <td>0.946995</td>\n",
       "      <td>0.750000</td>\n",
       "      <td>0.533333</td>\n",
       "      <td>0.0</td>\n",
       "    </tr>\n",
       "    <tr>\n",
       "      <th>2</th>\n",
       "      <td>4.131124</td>\n",
       "      <td>21.910001</td>\n",
       "      <td>0.692541</td>\n",
       "      <td>0.945470</td>\n",
       "      <td>1.000000</td>\n",
       "      <td>0.461538</td>\n",
       "      <td>0.0</td>\n",
       "    </tr>\n",
       "    <tr>\n",
       "      <th>3</th>\n",
       "      <td>4.161843</td>\n",
       "      <td>22.181034</td>\n",
       "      <td>0.647306</td>\n",
       "      <td>0.947311</td>\n",
       "      <td>1.000000</td>\n",
       "      <td>0.500000</td>\n",
       "      <td>0.0</td>\n",
       "    </tr>\n",
       "    <tr>\n",
       "      <th>4</th>\n",
       "      <td>4.023904</td>\n",
       "      <td>20.403193</td>\n",
       "      <td>0.686688</td>\n",
       "      <td>0.937579</td>\n",
       "      <td>0.857143</td>\n",
       "      <td>0.538462</td>\n",
       "      <td>0.0</td>\n",
       "    </tr>\n",
       "  </tbody>\n",
       "</table>\n",
       "</div>"
      ],
      "text/plain": [
       "       sSQI       kSQI      pSQI    basSQI      bSQI      rSQI  target\n",
       "0  1.591682  10.180201  0.677330  0.893694  0.857143  0.500000     0.0\n",
       "1  3.487843  16.106743  0.654026  0.946995  0.750000  0.533333     0.0\n",
       "2  4.131124  21.910001  0.692541  0.945470  1.000000  0.461538     0.0\n",
       "3  4.161843  22.181034  0.647306  0.947311  1.000000  0.500000     0.0\n",
       "4  4.023904  20.403193  0.686688  0.937579  0.857143  0.538462     0.0"
      ]
     },
     "execution_count": 11,
     "metadata": {},
     "output_type": "execute_result"
    }
   ],
   "source": [
    "import pandas as pd\n",
    "from tqdm import tqdm\n",
    "from ecgdetectors import Detectors\n",
    "from scipy.signal import welch\n",
    "from scipy.integrate import simps\n",
    "from scipy.stats import skew, kurtosis\n",
    "\n",
    "def get_SQIs(x, target=0):\n",
    "    fs = 300\n",
    "    sSQI = skew(x, bias=False)\n",
    "    kSQI = kurtosis(x, fisher=False, bias=False)\n",
    "    \n",
    "    def get_first_idx(x, a):\n",
    "        for i in range(len(x)):\n",
    "            if x[i] >= a:\n",
    "                    return i\n",
    "\n",
    "    def get_last_idx(x, a):\n",
    "        for i in range(len(x)):\n",
    "            if x[i] >= a:\n",
    "                return i-1\n",
    "                \n",
    "    f, Pxx_den = welch(x, fs=300)\n",
    "    u1 = simps(Pxx_den[get_first_idx(f, 5):get_last_idx(f, 15)], x=f[get_first_idx(f, 5):get_last_idx(f, 15)])\n",
    "    u2 = simps(Pxx_den[get_first_idx(f, 5):get_last_idx(f, 40)], x=f[get_first_idx(f, 5):get_last_idx(f, 40)])\n",
    "    u3 = simps(Pxx_den[get_first_idx(f, 1):get_last_idx(f, 40)], x=f[get_first_idx(f, 1):get_last_idx(f, 40)])\n",
    "    u4 = simps(Pxx_den[get_first_idx(f, 0):get_last_idx(f, 40)], x=f[get_first_idx(f, 0):get_last_idx(f, 40)])\n",
    "\n",
    "    pSQI = (u1/u2)\n",
    "    basSQI = (u3/u4)\n",
    "            \n",
    "    detectors = Detectors(down_freq)\n",
    "    \n",
    "    wqrs = _wqrs(x)\n",
    "    eplimited = detectors.hamilton_detector(x)\n",
    "    count = 0\n",
    "    j = 0\n",
    "    k = 0\n",
    "    while j < len(wqrs) and k < len(eplimited):\n",
    "        if wqrs[j] >= eplimited[k]-0.13*fs and wqrs[j] <= eplimited[k]+0.13*fs:\n",
    "            count += 1\n",
    "            j+=1\n",
    "            k+=1\n",
    "        elif wqrs[j] > eplimited[k]:\n",
    "            k+=1\n",
    "        else:\n",
    "            j+=1\n",
    "\n",
    "    bSQI = (count/len(wqrs))\n",
    "    rSQI = (len(wqrs)/(len(wqrs)+len(eplimited)))\n",
    "    \n",
    "    return [sSQI, kSQI, pSQI, basSQI, bSQI, rSQI, target]\n",
    "\n",
    "train_table = pd.DataFrame(columns=['sSQI','kSQI','pSQI','basSQI','bSQI','rSQI', 'target'])\n",
    "count = 0\n",
    "for Class in train_data:\n",
    "    target = 1 if Class == 'noisy' else 0\n",
    "    for i in tqdm(range(len(train_data[Class]))):\n",
    "        train_table.loc[count] = get_SQIs(train_data[Class][i], target)\n",
    "        count += 1\n",
    "train_table.head()"
   ]
  },
  {
   "cell_type": "code",
   "execution_count": 12,
   "metadata": {},
   "outputs": [],
   "source": [
    "sSQI_u = train_table['sSQI'].mean() \n",
    "kSQI_u = train_table['kSQI'].mean() \n",
    "\n",
    "sSQI_var = train_table['sSQI'].var() \n",
    "kSQI_var = train_table['kSQI'].var() \n",
    "\n",
    "train_table['sSQI'] = train_table['sSQI'].apply(lambda x: (x-sSQI_u) / np.sqrt(sSQI_var))\n",
    "train_table['kSQI'] = train_table['kSQI'].apply(lambda x: (x-kSQI_u) / np.sqrt(kSQI_var))"
   ]
  },
  {
   "cell_type": "code",
   "execution_count": null,
   "metadata": {},
   "outputs": [
    {
     "name": "stderr",
     "output_type": "stream",
     "text": [
      "100%|██████████| 100/100 [00:05<00:00, 19.16it/s]\n",
      "100%|██████████| 40/40 [00:01<00:00, 20.67it/s]\n",
      "100%|██████████| 30/30 [00:01<00:00, 17.79it/s]\n",
      " 27%|██▋       | 43/160 [00:02<00:05, 20.60it/s]"
     ]
    }
   ],
   "source": [
    "val_table = pd.DataFrame(columns=['sSQI','kSQI','pSQI','basSQI','bSQI','rSQI', 'target'])\n",
    "count = 0\n",
    "for Class in val_data:\n",
    "    target = 1 if Class == 'noisy' else 0\n",
    "    for i in tqdm(range(len(val_data[Class]))):\n",
    "        val_table.loc[count] = get_SQIs(val_data[Class][i], target)\n",
    "        count += 1"
   ]
  },
  {
   "cell_type": "code",
   "execution_count": 29,
   "metadata": {},
   "outputs": [
    {
     "name": "stdout",
     "output_type": "stream",
     "text": [
      "0.6830722445870502 10.285655554509132\n",
      "4.275985485144306 131.0073065212058\n"
     ]
    }
   ],
   "source": [
    "val_table['sSQI'] = val_table['sSQI'].apply(lambda x: (x-sSQI_u) / np.sqrt(sSQI_var))\n",
    "val_table['kSQI'] = val_table['kSQI'].apply(lambda x: (x-kSQI_u) / np.sqrt(kSQI_var))\n",
    "\n",
    "val_table.head()\n",
    "\n",
    "print(sSQI_u, kSQI_u)\n",
    "print(sSQI_var, kSQI_var)"
   ]
  },
  {
   "cell_type": "markdown",
   "metadata": {},
   "source": [
    "# SVM \n"
   ]
  },
  {
   "cell_type": "code",
   "execution_count": 30,
   "metadata": {},
   "outputs": [],
   "source": [
    "from sklearn.model_selection import train_test_split\n",
    "from sklearn.svm import SVC\n",
    "from sklearn.metrics import confusion_matrix, ConfusionMatrixDisplay\n",
    "from joblib import dump, load\n",
    "\n",
    "x_train = train_table.drop(['target'], axis='columns')\n",
    "y_train = train_table.target\n",
    "\n",
    "x_test = val_table.drop(['target'], axis='columns')\n",
    "y_test = val_table.target\n",
    "\n",
    "\n",
    "model = SVC(C=25, gamma=1, probability=True)\n",
    "model.fit(x_train, y_train)\n",
    "dump(model, 'model_2_03_21_5s.joblib');"
   ]
  },
  {
   "cell_type": "code",
   "execution_count": 31,
   "metadata": {},
   "outputs": [
    {
     "name": "stdout",
     "output_type": "stream",
     "text": [
      "0.8636363636363636\n"
     ]
    },
    {
     "data": {
      "text/plain": [
       "<sklearn.metrics._plot.confusion_matrix.ConfusionMatrixDisplay at 0x7fde2dacc430>"
      ]
     },
     "execution_count": 31,
     "metadata": {},
     "output_type": "execute_result"
    },
    {
     "data": {
      "image/png": "[encoded data removed]",
      "text/plain": [
       "<Figure size 432x288 with 2 Axes>"
      ]
     },
     "metadata": {
      "needs_background": "light"
     },
     "output_type": "display_data"
    }
   ],
   "source": [
    "import matplotlib.pyplot as plt\n",
    "print(model.score(x_test, y_test))\n",
    "cm = confusion_matrix(y_test, model.predict(x_test))\n",
    "disp = ConfusionMatrixDisplay(confusion_matrix=cm, display_labels=['clean', 'noisy'])\n",
    "disp.plot(cmap=plt.cm.Blues)\n"
   ]
  },
  {
   "cell_type": "code",
   "execution_count": 264,
   "metadata": {},
   "outputs": [],
   "source": [
    "errors = y_test[model.predict(x_test) != y_test]"
   ]
  }
 ],
 "metadata": {
  "kernelspec": {
   "display_name": "Python 3",
   "language": "python",
   "name": "python3"
  },
  "language_info": {
   "codemirror_mode": {
    "name": "ipython",
    "version": 3
   },
   "file_extension": ".py",
   "mimetype": "text/x-python",
   "name": "python",
   "nbconvert_exporter": "python",
   "pygments_lexer": "ipython3",
   "version": "3.8.5"
  }
 },
 "nbformat": 4,
 "nbformat_minor": 4
}

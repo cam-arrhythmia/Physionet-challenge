{
 "cells": [
  {
   "cell_type": "code",
   "execution_count": 1,
   "metadata": {},
   "outputs": [],
   "source": [
    "import os\n",
    "import scipy.io\n",
    "import numpy as np\n",
    "\n",
    "raw_data = {'normal': [], 'af': [], 'other': [], 'noisy': []}\n",
    "raw_val_data = {'normal': [], 'af': [], 'other': [], 'noisy': []}\n",
    "\n",
    "training_dir = os.path.join('..', 'data', 'training')\n",
    "validation_dir = os.path.join('..', 'data', 'validation')\n",
    "\n",
    "for Dir in [training_dir, validation_dir]:\n",
    "    for Class in ['normal', 'af', 'other', 'noisy']:\n",
    "        class_dir = os.path.join(Dir, Class)\n",
    "        for file in [os.path.join(class_dir, _) for _ in os.listdir(class_dir) if _.endswith('.mat')]:\n",
    "            mat_data = scipy.io.loadmat(file)\n",
    "            sequence = mat_data['val'][0]\n",
    "            \n",
    "            if Dir == training_dir:\n",
    "                raw_data[Class].append(sequence)\n",
    "            else:\n",
    "                raw_val_data[Class].append(sequence)"
   ]
  },
  {
   "cell_type": "code",
   "execution_count": 3,
   "metadata": {},
   "outputs": [
    {
     "name": "stdout",
     "output_type": "stream",
     "text": [
      "738\n"
     ]
    }
   ],
   "source": [
    "print(len(raw_data['af']))"
   ]
  },
  {
   "cell_type": "code",
   "execution_count": 59,
   "metadata": {},
   "outputs": [],
   "source": [
    "from ecgdetectors import Detectors\n",
    "fs = 300\n",
    "\n",
    "detectors = Detectors(fs)\n",
    "\n",
    "rrs_normal = []\n",
    "drrs_normal = []\n",
    "\n",
    "for x in raw_data['normal']:\n",
    "    peaks = detectors.swt_detector(x)\n",
    "    rr = []\n",
    "    for p in range(len(peaks)-1):\n",
    "        rr.append((peaks[p+1]-peaks[p])/fs)\n",
    "    \n",
    "    drr = []\n",
    "    for r in range(len(rr)-1):\n",
    "        drr.append(rr[r+1]-rr[r])\n",
    "    rrs_normal.append(rr[1:])\n",
    "    drrs_normal.append(drr)\n",
    "\n",
    "rrs_af = []\n",
    "drrs_af = []\n",
    "\n",
    "for x in raw_data['af']:\n",
    "    peaks = detectors.hamilton_detector(x)\n",
    "    rr = []\n",
    "    for p in range(len(peaks)-1):\n",
    "        rr.append((peaks[p+1]-peaks[p])/fs)\n",
    "    \n",
    "    drr = []\n",
    "    for r in range(len(rr)-1):\n",
    "        drr.append(rr[r+1]-rr[r])\n",
    "    rrs_af.append(rr[1:])\n",
    "    drrs_af.append(drr)"
   ]
  },
  {
   "cell_type": "code",
   "execution_count": 70,
   "metadata": {},
   "outputs": [
    {
     "data": {
      "text/plain": [
       "<matplotlib.collections.PathCollection at 0x7f8876d026a0>"
      ]
     },
     "execution_count": 70,
     "metadata": {},
     "output_type": "execute_result"
    },
    {
     "data": {
      "image/png": "[encoded data removed]",
      "text/plain": [
       "<Figure size 1440x720 with 2 Axes>"
      ]
     },
     "metadata": {
      "needs_background": "light"
     },
     "output_type": "display_data"
    }
   ],
   "source": [
    "import matplotlib.pyplot as plt\n",
    "\n",
    "fig, axs = plt.subplots(1, 2, sharex=True, sharey=True)\n",
    "fig.set_size_inches(20, 10)\n",
    "plt.xlim([0, 3])\n",
    "plt.ylim([-2, 2])\n",
    "\n",
    "axs[0].scatter(rrs_normal[4], drrs_normal[4])\n",
    "axs[1].scatter(rrs_af[0], drrs_af[0])"
   ]
  },
  {
   "cell_type": "code",
   "execution_count": 61,
   "metadata": {},
   "outputs": [],
   "source": [
    "# m = len(max(rrs_af, key=len))\n",
    "# rrs_af_padded = []\n",
    "# for i in rrs_af:\n",
    "#     curr = np.pad(i, (0, m-len(i)))\n",
    "#     rrs_af_padded.append(curr)\n",
    "    \n",
    "# m = len(max(drrs_af, key=len))\n",
    "# drrs_af_padded = []\n",
    "# for i in drrs_af:\n",
    "#     curr = np.pad(i, (0, m-len(i)))\n",
    "#     drrs_af_padded.append(curr)\n",
    "\n",
    "# m = len(max(rrs_normal, key=len))\n",
    "# rrs_normal_padded = []\n",
    "# for i in rrs_normal:\n",
    "#     curr = np.pad(i, (0, m-len(i)))\n",
    "#     rrs_normal_padded.append(curr)\n",
    "\n",
    "# m = len(max(drrs_normal, key=len))\n",
    "# drrs_normal_padded = []\n",
    "# for i in drrs_normal:\n",
    "#     curr = np.pad(i, (0, m-len(i)))\n",
    "#     drrs_normal_padded.append(curr)"
   ]
  },
  {
   "cell_type": "code",
   "execution_count": 87,
   "metadata": {},
   "outputs": [
    {
     "data": {
      "text/plain": [
       "0"
      ]
     },
     "execution_count": 87,
     "metadata": {},
     "output_type": "execute_result"
    }
   ],
   "source": [
    "initial_grid = {}\n",
    "\n",
    "for i in np.arange(0, 3, 0.025):\n",
    "    for j in np.arange(-2, 2, 0.025):\n",
    "        initial_grid[(i, j)] = False"
   ]
  },
  {
   "cell_type": "code",
   "execution_count": 90,
   "metadata": {},
   "outputs": [],
   "source": [
    "def round_to_25(x):\n",
    "    return x - x % 0.025"
   ]
  },
  {
   "cell_type": "code",
   "execution_count": 105,
   "metadata": {},
   "outputs": [],
   "source": [
    "x_normal = []\n",
    "for i in range(len(rrs_normal)):\n",
    "    for w in range(0, len(rrs_normal)-32, 32):\n",
    "        if w+32 < len(rrs_normal[i]):\n",
    "            curr_grid = dict(initial_grid)\n",
    "            for j in range(32):\n",
    "                curr_grid[round_to_25(rrs_normal[i][w+j]), round_to_25(drrs_normal[i][w+j])] = True\n",
    "            x_normal.append(sum(curr_grid.values()))\n",
    "\n",
    "x_af = []\n",
    "for i in range(len(rrs_af)):\n",
    "    for w in range(0, len(rrs_af)-32, 32):\n",
    "        if w+32 < len(rrs_af[i]):\n",
    "            curr_grid = dict(initial_grid)\n",
    "            for j in range(32):\n",
    "                curr_grid[round_to_25(rrs_af[i][w+j]), round_to_25(drrs_af[i][w+j])] = True\n",
    "            x_af.append(sum(curr_grid.values()))"
   ]
  },
  {
   "cell_type": "code",
   "execution_count": 106,
   "metadata": {},
   "outputs": [
    {
     "name": "stdout",
     "output_type": "stream",
     "text": [
      "23.85869885192817 27.62330623306233\n"
     ]
    }
   ],
   "source": [
    "print(np.mean(x_normal), np.mean(x_af))"
   ]
  },
  {
   "cell_type": "code",
   "execution_count": 112,
   "metadata": {},
   "outputs": [],
   "source": [
    "y_normal = [0]*len(x_af)\n",
    "y_af = [1]*len(x_af)\n",
    "\n",
    "x = np.concatenate((x_normal[:len(x_af)], x_af))\n",
    "y = np.concatenate((y_normal, y_af))\n",
    "\n",
    "p = np.random.permutation(len(x))\n",
    "x = x[p]\n",
    "y = y[p]"
   ]
  },
  {
   "cell_type": "code",
   "execution_count": 129,
   "metadata": {},
   "outputs": [
    {
     "name": "stdout",
     "output_type": "stream",
     "text": [
      "0.7364864864864865\n"
     ]
    }
   ],
   "source": [
    "from sklearn.model_selection import train_test_split\n",
    "from sklearn.svm import SVC\n",
    "\n",
    "x = np.reshape(x, (-1, 1))\n",
    "\n",
    "x_train, x_test, y_train, y_test = train_test_split(x, y, test_size=0.2)\n",
    "model = SVC(C=25, gamma=1, probability=True)\n",
    "model.fit(x_train, y_train)\n",
    "print(model.score(x_test, y_test))\n"
   ]
  },
  {
   "cell_type": "code",
   "execution_count": null,
   "metadata": {},
   "outputs": [],
   "source": []
  }
 ],
 "metadata": {
  "kernelspec": {
   "display_name": "Python 3 (ipykernel)",
   "language": "python",
   "name": "python3"
  },
  "language_info": {
   "codemirror_mode": {
    "name": "ipython",
    "version": 3
   },
   "file_extension": ".py",
   "mimetype": "text/x-python",
   "name": "python",
   "nbconvert_exporter": "python",
   "pygments_lexer": "ipython3",
   "version": "3.8.5"
  }
 },
 "nbformat": 4,
 "nbformat_minor": 4
}

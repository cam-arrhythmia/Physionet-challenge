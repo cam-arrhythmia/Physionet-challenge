{
 "cells": [
  {
   "cell_type": "markdown",
   "metadata": {},
   "source": [
    "## loading data\n",
    "\n",
    "loads data in a dictionary with 4 labels and normalise it"
   ]
  },
  {
   "cell_type": "code",
   "execution_count": 180,
   "metadata": {},
   "outputs": [],
   "source": [
    "import os\n",
    "import scipy.io\n",
    "import numpy as np\n",
    "\n",
    "raw_data = {'normal': [], 'af': [], 'other': [], 'noisy': []}\n",
    "raw_val_data = {'normal': [], 'af': [], 'other': [], 'noisy': []}\n",
    "\n",
    "training_dir = os.path.join('..', 'data', 'training')\n",
    "validation_dir = os.path.join('..', 'data', 'validation')\n",
    "\n",
    "for Dir in [training_dir, validation_dir]:\n",
    "    for Class in ['normal', 'af', 'other', 'noisy']:\n",
    "        class_dir = os.path.join(Dir, Class)\n",
    "        for file in [os.path.join(class_dir, _) for _ in os.listdir(class_dir) if _.endswith('.mat')]:\n",
    "            mat_data = scipy.io.loadmat(file)\n",
    "            sequence = mat_data['val'][0]\n",
    "            normalised_sequence = (sequence - min(sequence)) / (max(sequence) - min(sequence))\n",
    "            if Dir == training_dir:\n",
    "                raw_data[Class].append(normalised_sequence)\n",
    "            else:\n",
    "                raw_val_data[Class].append(normalised_sequence)"
   ]
  },
  {
   "cell_type": "code",
   "execution_count": 181,
   "metadata": {},
   "outputs": [],
   "source": [
    "from scipy.signal import butter,filtfilt\n",
    "import math\n",
    "\n",
    "def butter_lowpass_filter(data, cutoff):\n",
    "    T = 10         # Sample Period\n",
    "    fs = 150      # sample rate, Hz\n",
    "    nyq = 0.5 * fs  # Nyquist Frequency\n",
    "    order = 2\n",
    "    n = int(T * fs) # total number of samples\n",
    "\n",
    "    normal_cutoff = cutoff / nyq\n",
    "    \n",
    "    # Get the filter coefficients \n",
    "    b, a = butter(order, normal_cutoff, btype='low', analog=False)\n",
    "    y = filtfilt(b, a, data)\n",
    "    return y\n",
    "\n",
    "def length_transfrom(x, w):\n",
    "    fs = 150\n",
    "    tmp = []\n",
    "    for i in range(w, len(x)):\n",
    "        curr = 0\n",
    "        for k in range(i-w+1, i):\n",
    "            curr += np.sqrt(np.power(20/fs, 2)+np.power(x[i]-x[i-1],2))\n",
    "        tmp.append(curr)\n",
    "    l = [tmp[0]]*w\n",
    "    \n",
    "    return l+tmp\n",
    "\n",
    "def threshold(x):\n",
    "    u = np.mean(x)\n",
    "    peaks = []\n",
    "    fs = 150\n",
    "    for i in range(len(x)):\n",
    "        if (len(peaks) == 0 or i > peaks[-1]+(fs*0.25)) and x[i] > u:\n",
    "            peaks.append(i)\n",
    "    return peaks\n",
    "\n",
    "def _wqrs(x):\n",
    "    fs = 50\n",
    "    y = butter_lowpass_filter(x, 15)\n",
    "    y = length_transfrom(y, math.ceil(fs*.130))\n",
    "    return threshold(y)"
   ]
  },
  {
   "cell_type": "markdown",
   "metadata": {},
   "source": [
    "## pre-processing\n",
    "\n",
    "transform data into 10s segments, remainders are 0 padded. Then downsample to 150Hz (or dont).\n",
    "Padding using \"reflect\" adds ~5% accuracy over \"mean\".\n",
    "\n",
    "take 770 noisy elements for training and 85 for validation, balance with other classes."
   ]
  },
  {
   "cell_type": "code",
   "execution_count": 182,
   "metadata": {},
   "outputs": [],
   "source": [
    "train_data = {'normal': [], 'af': [], 'other': [], 'noisy': []}\n",
    "val_data = {'normal': [], 'af': [], 'other': [], 'noisy': []}\n",
    "\n",
    "sampling_freq = 300\n",
    "down_freq = 300\n",
    "\n",
    "R = sampling_freq // down_freq\n",
    "\n",
    "for idx, data in enumerate([train_data, val_data]):\n",
    "    for key in data.keys():\n",
    "        tmp = raw_data if idx == 0 else raw_val_data\n",
    "        for d in tmp[key]:\n",
    "            for i in range(0, len(d)+10*(sampling_freq), 10*(sampling_freq)):\n",
    "                if i+(10*(sampling_freq)) <= len(d):\n",
    "                    data[key].append(d[i:i+10*(sampling_freq)])                \n",
    "                elif i < len(d):\n",
    "                    arr = d[i:]\n",
    "                    arr = np.pad(arr, (0, 10*sampling_freq-len(arr)), 'reflect')\n",
    "                    data[key].append(arr)\n",
    "                data[key][-1] = data[key][-1].reshape(-1, R).mean(axis=1)\n",
    "                \n",
    "\n",
    "train_data['normal'] = train_data['normal'][:400]\n",
    "train_data['af'] = train_data['af'][:200]\n",
    "train_data['other'] = train_data['other'][:170]\n",
    "train_data['noisy'] = train_data['noisy'][:770]\n",
    "\n",
    "val_data['normal'] = val_data['normal'][:50]\n",
    "val_data['af'] = val_data['af'][:20]\n",
    "val_data['other'] = val_data['other'][:15]\n",
    "val_data['noisy'] = val_data['noisy'][:85]"
   ]
  },
  {
   "cell_type": "code",
   "execution_count": 183,
   "metadata": {},
   "outputs": [
    {
     "name": "stdout",
     "output_type": "stream",
     "text": [
      "-----\n",
      "\n",
      "normal: 400\n",
      "af: 200\n",
      "other: 170\n",
      "noisy: 770 \n",
      "\n",
      "total: 1540\n",
      "-----\n",
      "\n",
      "normal: 50\n",
      "af: 20\n",
      "other: 15\n",
      "noisy: 85 \n",
      "\n",
      "total: 170\n"
     ]
    }
   ],
   "source": [
    "for data in [train_data, val_data]:\n",
    "    print('-----\\n')\n",
    "    print('normal:', len(data['normal']))\n",
    "    print('af:', len(data['af']))\n",
    "    print('other:', len(data['other']))\n",
    "    print('noisy:', len(data['noisy']), '\\n')\n",
    "    print('total:', len(data['normal']) + len(data['af']) + len(data['other']) + len(data['noisy']))\n"
   ]
  },
  {
   "cell_type": "code",
   "execution_count": 140,
   "metadata": {},
   "outputs": [
    {
     "name": "stdout",
     "output_type": "stream",
     "text": [
      "Requirement already up-to-date: py-ecg-detectors in /Users/Yoav2/opt/anaconda3/lib/python3.8/site-packages (1.1.0)\r\n",
      "Requirement already satisfied, skipping upgrade: pywavelets in /Users/Yoav2/opt/anaconda3/lib/python3.8/site-packages (from py-ecg-detectors) (1.1.1)\r\n",
      "Requirement already satisfied, skipping upgrade: scipy in /Users/Yoav2/opt/anaconda3/lib/python3.8/site-packages (from py-ecg-detectors) (1.5.2)\r\n",
      "Requirement already satisfied, skipping upgrade: gatspy in /Users/Yoav2/opt/anaconda3/lib/python3.8/site-packages (from py-ecg-detectors) (0.3)\r\n",
      "Requirement already satisfied, skipping upgrade: numpy in /Users/Yoav2/opt/anaconda3/lib/python3.8/site-packages (from py-ecg-detectors) (1.19.2)\r\n"
     ]
    }
   ],
   "source": [
    "!pip3 install py-ecg-detectors --upgrade"
   ]
  },
  {
   "cell_type": "code",
   "execution_count": 184,
   "metadata": {},
   "outputs": [
    {
     "name": "stderr",
     "output_type": "stream",
     "text": [
      "100%|██████████| 400/400 [00:45<00:00,  8.73it/s]\n",
      "100%|██████████| 200/200 [00:22<00:00,  8.77it/s]\n",
      "100%|██████████| 170/170 [00:19<00:00,  8.74it/s]\n",
      "100%|██████████| 770/770 [01:27<00:00,  8.82it/s]\n"
     ]
    },
    {
     "data": {
      "text/html": [
       "<div>\n",
       "<style scoped>\n",
       "    .dataframe tbody tr th:only-of-type {\n",
       "        vertical-align: middle;\n",
       "    }\n",
       "\n",
       "    .dataframe tbody tr th {\n",
       "        vertical-align: top;\n",
       "    }\n",
       "\n",
       "    .dataframe thead th {\n",
       "        text-align: right;\n",
       "    }\n",
       "</style>\n",
       "<table border=\"1\" class=\"dataframe\">\n",
       "  <thead>\n",
       "    <tr style=\"text-align: right;\">\n",
       "      <th></th>\n",
       "      <th>sSQI</th>\n",
       "      <th>kSQI</th>\n",
       "      <th>pSQI</th>\n",
       "      <th>basSQI</th>\n",
       "      <th>bSQI</th>\n",
       "      <th>rSQI</th>\n",
       "      <th>target</th>\n",
       "    </tr>\n",
       "  </thead>\n",
       "  <tbody>\n",
       "    <tr>\n",
       "      <th>0</th>\n",
       "      <td>2.302984</td>\n",
       "      <td>12.573987</td>\n",
       "      <td>0.677885</td>\n",
       "      <td>0.915717</td>\n",
       "      <td>0.928571</td>\n",
       "      <td>0.500000</td>\n",
       "      <td>0.0</td>\n",
       "    </tr>\n",
       "    <tr>\n",
       "      <th>1</th>\n",
       "      <td>4.144167</td>\n",
       "      <td>22.010114</td>\n",
       "      <td>0.675984</td>\n",
       "      <td>0.947223</td>\n",
       "      <td>1.000000</td>\n",
       "      <td>0.500000</td>\n",
       "      <td>0.0</td>\n",
       "    </tr>\n",
       "    <tr>\n",
       "      <th>2</th>\n",
       "      <td>3.933585</td>\n",
       "      <td>19.762409</td>\n",
       "      <td>0.686723</td>\n",
       "      <td>0.943999</td>\n",
       "      <td>0.857143</td>\n",
       "      <td>0.518519</td>\n",
       "      <td>0.0</td>\n",
       "    </tr>\n",
       "    <tr>\n",
       "      <th>3</th>\n",
       "      <td>0.596628</td>\n",
       "      <td>10.936016</td>\n",
       "      <td>0.684572</td>\n",
       "      <td>0.680153</td>\n",
       "      <td>0.777778</td>\n",
       "      <td>0.562500</td>\n",
       "      <td>0.0</td>\n",
       "    </tr>\n",
       "    <tr>\n",
       "      <th>4</th>\n",
       "      <td>3.880149</td>\n",
       "      <td>20.533434</td>\n",
       "      <td>0.634762</td>\n",
       "      <td>0.977505</td>\n",
       "      <td>1.000000</td>\n",
       "      <td>0.500000</td>\n",
       "      <td>0.0</td>\n",
       "    </tr>\n",
       "  </tbody>\n",
       "</table>\n",
       "</div>"
      ],
      "text/plain": [
       "       sSQI       kSQI      pSQI    basSQI      bSQI      rSQI  target\n",
       "0  2.302984  12.573987  0.677885  0.915717  0.928571  0.500000     0.0\n",
       "1  4.144167  22.010114  0.675984  0.947223  1.000000  0.500000     0.0\n",
       "2  3.933585  19.762409  0.686723  0.943999  0.857143  0.518519     0.0\n",
       "3  0.596628  10.936016  0.684572  0.680153  0.777778  0.562500     0.0\n",
       "4  3.880149  20.533434  0.634762  0.977505  1.000000  0.500000     0.0"
      ]
     },
     "execution_count": 184,
     "metadata": {},
     "output_type": "execute_result"
    }
   ],
   "source": [
    "import pandas as pd\n",
    "from tqdm import tqdm\n",
    "from ecgdetectors import Detectors\n",
    "from scipy.signal import welch\n",
    "from scipy.integrate import simps\n",
    "\n",
    "def get_SQIs(x, target=0):\n",
    "    sSQI = skew(x, bias=False)\n",
    "    kSQI = kurtosis(x, fisher=False, bias=False)\n",
    "    \n",
    "    def get_first_idx(x, a):\n",
    "        for i in range(len(x)):\n",
    "            if x[i] >= a:\n",
    "                    return i\n",
    "\n",
    "    def get_last_idx(x, a):\n",
    "        for i in range(len(x)):\n",
    "            if x[i] >= a:\n",
    "                return i-1\n",
    "                \n",
    "    f, Pxx_den = welch(x, fs=300)\n",
    "    u1 = simps(Pxx_den[get_first_idx(f, 5):get_last_idx(f, 15)], x=f[get_first_idx(f, 5):get_last_idx(f, 15)])\n",
    "    u2 = simps(Pxx_den[get_first_idx(f, 5):get_last_idx(f, 40)], x=f[get_first_idx(f, 5):get_last_idx(f, 40)])\n",
    "    u3 = simps(Pxx_den[get_first_idx(f, 1):get_last_idx(f, 40)], x=f[get_first_idx(f, 1):get_last_idx(f, 40)])\n",
    "    u4 = simps(Pxx_den[get_first_idx(f, 0):get_last_idx(f, 40)], x=f[get_first_idx(f, 0):get_last_idx(f, 40)])\n",
    "\n",
    "    pSQI = (u1/u2)\n",
    "    basSQI = (u3/u4)\n",
    "            \n",
    "    detectors = Detectors(down_freq)\n",
    "    wqrs = _wqrs(x)\n",
    "    eplimited = detectors.hamilton_detector(x)\n",
    "    count = 0\n",
    "    for w in wqrs:\n",
    "        for e in range(len(eplimited)):\n",
    "            if eplimited[e] >= w-(down_freq*0.05) and eplimited[e] <= w+(down_freq*0.13):\n",
    "                count+=1\n",
    "                break\n",
    "            elif eplimited[e] > w+(down_freq*0.13):\n",
    "                break\n",
    "    bSQI = (count/len(wqrs))\n",
    "    rSQI = (len(wqrs)/(len(wqrs)+len(eplimited)))\n",
    "    \n",
    "    return [sSQI, kSQI, pSQI, basSQI, bSQI, rSQI, target]\n",
    "\n",
    "train_table = pd.DataFrame(columns=['sSQI','kSQI','pSQI','basSQI','bSQI','rSQI', 'target'])\n",
    "count = 0\n",
    "for Class in train_data:\n",
    "    target = 1 if Class == 'noisy' else 0\n",
    "    for i in tqdm(range(len(train_data[Class]))):\n",
    "        train_table.loc[count] = get_SQIs(train_data[Class][i], target)\n",
    "        count += 1\n",
    "train_table.head()"
   ]
  },
  {
   "cell_type": "code",
   "execution_count": 185,
   "metadata": {},
   "outputs": [],
   "source": [
    "sSQI_u = train_table['sSQI'].mean() \n",
    "kSQI_u = train_table['kSQI'].mean() \n",
    "\n",
    "sSQI_var = train_table['sSQI'].var() \n",
    "kSQI_var = train_table['kSQI'].var() \n",
    "\n",
    "train_table['sSQI'] = train_table['sSQI'].apply(lambda x: (x-sSQI_u) / np.sqrt(sSQI_var))\n",
    "train_table['kSQI'] = train_table['kSQI'].apply(lambda x: (x-kSQI_u) / np.sqrt(kSQI_var))"
   ]
  },
  {
   "cell_type": "code",
   "execution_count": 186,
   "metadata": {},
   "outputs": [
    {
     "name": "stderr",
     "output_type": "stream",
     "text": [
      "100%|██████████| 50/50 [00:05<00:00,  8.40it/s]\n",
      "100%|██████████| 20/20 [00:02<00:00,  8.28it/s]\n",
      "100%|██████████| 15/15 [00:01<00:00,  8.42it/s]\n",
      "100%|██████████| 85/85 [00:09<00:00,  8.65it/s]\n"
     ]
    }
   ],
   "source": [
    "val_table = pd.DataFrame(columns=['sSQI','kSQI','pSQI','basSQI','bSQI','rSQI', 'target'])\n",
    "count = 0\n",
    "for Class in val_data:\n",
    "    target = 1 if Class == 'noisy' else 0\n",
    "    for i in tqdm(range(len(val_data[Class]))):\n",
    "        val_table.loc[count] = get_SQIs(val_data[Class][i], target)\n",
    "        count += 1"
   ]
  },
  {
   "cell_type": "code",
   "execution_count": 187,
   "metadata": {},
   "outputs": [
    {
     "data": {
      "text/html": [
       "<div>\n",
       "<style scoped>\n",
       "    .dataframe tbody tr th:only-of-type {\n",
       "        vertical-align: middle;\n",
       "    }\n",
       "\n",
       "    .dataframe tbody tr th {\n",
       "        vertical-align: top;\n",
       "    }\n",
       "\n",
       "    .dataframe thead th {\n",
       "        text-align: right;\n",
       "    }\n",
       "</style>\n",
       "<table border=\"1\" class=\"dataframe\">\n",
       "  <thead>\n",
       "    <tr style=\"text-align: right;\">\n",
       "      <th></th>\n",
       "      <th>sSQI</th>\n",
       "      <th>kSQI</th>\n",
       "      <th>pSQI</th>\n",
       "      <th>basSQI</th>\n",
       "      <th>bSQI</th>\n",
       "      <th>rSQI</th>\n",
       "      <th>target</th>\n",
       "    </tr>\n",
       "  </thead>\n",
       "  <tbody>\n",
       "    <tr>\n",
       "      <th>0</th>\n",
       "      <td>-0.118987</td>\n",
       "      <td>-0.337636</td>\n",
       "      <td>0.587193</td>\n",
       "      <td>0.780305</td>\n",
       "      <td>0.857143</td>\n",
       "      <td>0.538462</td>\n",
       "      <td>0.0</td>\n",
       "    </tr>\n",
       "    <tr>\n",
       "      <th>1</th>\n",
       "      <td>1.281957</td>\n",
       "      <td>0.472599</td>\n",
       "      <td>0.588138</td>\n",
       "      <td>0.901526</td>\n",
       "      <td>0.833333</td>\n",
       "      <td>0.521739</td>\n",
       "      <td>0.0</td>\n",
       "    </tr>\n",
       "    <tr>\n",
       "      <th>2</th>\n",
       "      <td>1.193440</td>\n",
       "      <td>0.405825</td>\n",
       "      <td>0.586874</td>\n",
       "      <td>0.909558</td>\n",
       "      <td>0.250000</td>\n",
       "      <td>0.500000</td>\n",
       "      <td>0.0</td>\n",
       "    </tr>\n",
       "    <tr>\n",
       "      <th>3</th>\n",
       "      <td>-0.071045</td>\n",
       "      <td>-0.586448</td>\n",
       "      <td>0.595948</td>\n",
       "      <td>0.804998</td>\n",
       "      <td>0.812500</td>\n",
       "      <td>0.551724</td>\n",
       "      <td>0.0</td>\n",
       "    </tr>\n",
       "    <tr>\n",
       "      <th>4</th>\n",
       "      <td>0.103763</td>\n",
       "      <td>-0.429941</td>\n",
       "      <td>0.581346</td>\n",
       "      <td>0.859263</td>\n",
       "      <td>0.750000</td>\n",
       "      <td>0.551724</td>\n",
       "      <td>0.0</td>\n",
       "    </tr>\n",
       "  </tbody>\n",
       "</table>\n",
       "</div>"
      ],
      "text/plain": [
       "       sSQI      kSQI      pSQI    basSQI      bSQI      rSQI  target\n",
       "0 -0.118987 -0.337636  0.587193  0.780305  0.857143  0.538462     0.0\n",
       "1  1.281957  0.472599  0.588138  0.901526  0.833333  0.521739     0.0\n",
       "2  1.193440  0.405825  0.586874  0.909558  0.250000  0.500000     0.0\n",
       "3 -0.071045 -0.586448  0.595948  0.804998  0.812500  0.551724     0.0\n",
       "4  0.103763 -0.429941  0.581346  0.859263  0.750000  0.551724     0.0"
      ]
     },
     "execution_count": 187,
     "metadata": {},
     "output_type": "execute_result"
    }
   ],
   "source": [
    "val_table['sSQI'] = val_table['sSQI'].apply(lambda x: (x-sSQI_u) / np.sqrt(sSQI_var))\n",
    "val_table['kSQI'] = val_table['kSQI'].apply(lambda x: (x-kSQI_u) / np.sqrt(kSQI_var))\n",
    "\n",
    "val_table.head()"
   ]
  },
  {
   "cell_type": "markdown",
   "metadata": {},
   "source": [
    "# SVM \n"
   ]
  },
  {
   "cell_type": "code",
   "execution_count": 188,
   "metadata": {},
   "outputs": [
    {
     "data": {
      "text/plain": [
       "SVC(C=25, gamma=1, probability=True)"
      ]
     },
     "execution_count": 188,
     "metadata": {},
     "output_type": "execute_result"
    }
   ],
   "source": [
    "from sklearn.model_selection import train_test_split\n",
    "from sklearn.svm import SVC\n",
    "from sklearn.metrics import confusion_matrix, ConfusionMatrixDisplay\n",
    "from joblib import dump, load\n",
    "\n",
    "df = pd.read_pickle(\"data_processed.pkl\")\n",
    "x_train = train_table.drop(['target'], axis='columns')\n",
    "y_train = train_table.target\n",
    "\n",
    "x_test = val_table.drop(['target'], axis='columns')\n",
    "y_test = val_table.target\n",
    "\n",
    "\n",
    "model = SVC(C=25, gamma=1, probability=True)\n",
    "model.fit(x_train, y_train)\n"
   ]
  },
  {
   "cell_type": "code",
   "execution_count": 189,
   "metadata": {},
   "outputs": [
    {
     "name": "stdout",
     "output_type": "stream",
     "text": [
      "0.9\n"
     ]
    },
    {
     "data": {
      "text/plain": [
       "<sklearn.metrics._plot.confusion_matrix.ConfusionMatrixDisplay at 0x7fcbf4ef2fa0>"
      ]
     },
     "execution_count": 189,
     "metadata": {},
     "output_type": "execute_result"
    },
    {
     "data": {
      "image/png": "[encoded data removed]",
      "text/plain": [
       "<Figure size 432x288 with 2 Axes>"
      ]
     },
     "metadata": {
      "needs_background": "light"
     },
     "output_type": "display_data"
    }
   ],
   "source": [
    "print(model.score(x_test, y_test))\n",
    "cm = confusion_matrix(y_test, model.predict(x_test))\n",
    "disp = ConfusionMatrixDisplay(confusion_matrix=cm, display_labels=['clean', 'noisy'])\n",
    "disp.plot(cmap=plt.cm.Blues)"
   ]
  },
  {
   "cell_type": "code",
   "execution_count": 264,
   "metadata": {},
   "outputs": [],
   "source": [
    "errors = y_test[model.predict(x_test) != y_test]"
   ]
  }
 ],
 "metadata": {
  "kernelspec": {
   "display_name": "Python 3",
   "language": "python",
   "name": "python3"
  },
  "language_info": {
   "codemirror_mode": {
    "name": "ipython",
    "version": 3
   },
   "file_extension": ".py",
   "mimetype": "text/x-python",
   "name": "python",
   "nbconvert_exporter": "python",
   "pygments_lexer": "ipython3",
   "version": "3.8.5"
  }
 },
 "nbformat": 4,
 "nbformat_minor": 4
}

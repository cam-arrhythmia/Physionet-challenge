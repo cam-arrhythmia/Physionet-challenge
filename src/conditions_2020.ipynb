{
 "cells": [
  {
   "cell_type": "markdown",
   "metadata": {},
   "source": [
    "# Loading Data"
   ]
  },
  {
   "cell_type": "code",
   "execution_count": 295,
   "metadata": {},
   "outputs": [
    {
     "name": "stderr",
     "output_type": "stream",
     "text": [
      "<ipython-input-295-25a69bef1802>:20: RuntimeWarning: overflow encountered in short_scalars\n",
      "  normalised_sequence = (sequence - min(sequence)) / (max(sequence) - min(sequence))\n"
     ]
    }
   ],
   "source": [
    "import os\n",
    "import scipy.io\n",
    "import numpy as np\n",
    "import matplotlib.pyplot as plt\n",
    "\n",
    "raw_data = []\n",
    "raw_labels = []\n",
    "\n",
    "training_dir = os.path.join('..', 'data', '2020')\n",
    "\n",
    "for file in [os.path.join(training_dir, _) for _ in os.listdir(training_dir) if _.endswith('.mat')]:\n",
    "    basename = os.path.basename(file).split('.')[0]\n",
    "    header = open(os.path.join(training_dir, f'{basename}.hea'))\n",
    "    header_content = header.readlines()\n",
    "    label = header_content[15].split(' ')[1].split('\\n')[0]\n",
    "    raw_labels.append(label)\n",
    "\n",
    "    mat_data = scipy.io.loadmat(file)\n",
    "    sequence = mat_data['val'][0]\n",
    "    normalised_sequence = (sequence - min(sequence)) / (max(sequence) - min(sequence))\n",
    "    raw_data.append(normalised_sequence)"
   ]
  },
  {
   "cell_type": "code",
   "execution_count": 296,
   "metadata": {},
   "outputs": [
    {
     "name": "stdout",
     "output_type": "stream",
     "text": [
      "{'429622005': 784, '270492004': 686, '284470004': 533, '426783006': 918, '59118001': 1533, '164931005': 185, '164889003': 976, '164884008': 607, '164889003,429622005': 30, '270492004,429622005': 6, '164889003,164909002': 26, '164909002': 179, '164889003,59118001': 172, '59118001,164884008': 51, '59118001,429622005': 20, '59118001,284470004': 52, '284470004,164931005': 2, '164884008,429622005': 18, '164909002,164884008': 6, '270492004,284470004': 3, '164889003,284470004': 4, '59118001,164931005': 16, '270492004,59118001': 10, '270492004,164909002': 8, '284470004,429622005': 6, '59118001,284470004,164931005': 3, '164889003,164931005': 2, '164889003,164884008': 8, '164889003,164909002,429622005': 3, '284470004,164884008': 3, '164909002,164931005': 4, '164909002,284470004': 10, '270492004,164884008': 5, '164884008,164931005': 2, '429622005,164931005': 2, '270492004,164931005': 4}\n"
     ]
    }
   ],
   "source": [
    "conditions = {}\n",
    "for i in raw_labels:\n",
    "    conditions[i] = conditions.get(i, 0) + 1\n",
    "print(conditions)"
   ]
  },
  {
   "cell_type": "code",
   "execution_count": 297,
   "metadata": {},
   "outputs": [],
   "source": [
    "from scipy.signal import butter,filtfilt\n",
    "import math\n",
    "\n",
    "def butter_lowpass_filter(data, cutoff):\n",
    "    T = 10         # Sample Period\n",
    "    fs = 150      # sample rate, Hz\n",
    "    nyq = 0.5 * fs  # Nyquist Frequency\n",
    "    order = 2\n",
    "    n = int(T * fs) # total number of samples\n",
    "\n",
    "    normal_cutoff = cutoff / nyq\n",
    "    \n",
    "    # Get the filter coefficients \n",
    "    b, a = butter(order, normal_cutoff, btype='low', analog=False)\n",
    "    y = filtfilt(b, a, data)\n",
    "    return y\n",
    "\n",
    "def length_transfrom(x, w):\n",
    "    fs = 300\n",
    "    tmp = []\n",
    "    for i in range(w, len(x)):\n",
    "        curr = 0\n",
    "        for k in range(i-w+1, i):\n",
    "            curr += np.sqrt((20/fs)+np.power(x[k]-x[k-1],2))\n",
    "        tmp.append(curr)\n",
    "    l = [tmp[0]]*w\n",
    "    \n",
    "    return l+tmp\n",
    "\n",
    "def threshold(x):\n",
    "    u = np.mean(x)\n",
    "    peaks = []\n",
    "    fs = 300\n",
    "    for i in range(len(x)):\n",
    "        if (len(peaks) == 0 or i > peaks[-1]+(fs*0.18)) and x[i] > u:\n",
    "            peaks.append(i)\n",
    "    return peaks\n",
    "\n",
    "def _wqrs(x):\n",
    "    fs = 50\n",
    "    y = butter_lowpass_filter(x, 15)\n",
    "    y = length_transfrom(y, math.ceil(fs*.130))\n",
    "    return threshold(y)"
   ]
  },
  {
   "cell_type": "markdown",
   "metadata": {},
   "source": [
    "# Preprocessing\n",
    "\n",
    "resample to 300 Hz"
   ]
  },
  {
   "cell_type": "code",
   "execution_count": 298,
   "metadata": {},
   "outputs": [],
   "source": [
    "from scipy import interpolate\n",
    "data = []\n",
    "labels = []\n",
    "sampling_freq = 500\n",
    "down_freq = 300\n",
    "\n",
    "for d in range(len(raw_data)):\n",
    "    for i in range(0, len(raw_data[d])+10*(sampling_freq), 10*(sampling_freq)):\n",
    "        if i+(10*(sampling_freq)) <= len(raw_data[d]):\n",
    "            curr = raw_data[d][i:i+10*(sampling_freq)]\n",
    "            y = np.zeros(3*len(curr))\n",
    "            j = 0\n",
    "            for i in range(0, len(curr)):\n",
    "                y[j] = curr[i]\n",
    "                y[j+1] = curr[i]\n",
    "                y[j+2] = curr[i]\n",
    "                j+=3\n",
    "            \n",
    "            data.append(y.reshape(-1, 5).mean(axis=1))\n",
    "            labels.append(raw_labels[d])"
   ]
  },
  {
   "cell_type": "code",
   "execution_count": 299,
   "metadata": {},
   "outputs": [],
   "source": [
    "import pandas as pd\n",
    "from tqdm import tqdm\n",
    "from ecgdetectors import Detectors\n",
    "from scipy.signal import welch\n",
    "from scipy.integrate import simps\n",
    "from scipy.stats import skew, kurtosis\n",
    "\n",
    "def get_SQIs(x, target=0):\n",
    "    fs = 300\n",
    "    sSQI = skew(x, bias=False)\n",
    "    kSQI = kurtosis(x, fisher=False, bias=False)\n",
    "    \n",
    "    def get_first_idx(x, a):\n",
    "        for i in range(len(x)):\n",
    "            if x[i] >= a:\n",
    "                    return i\n",
    "\n",
    "    def get_last_idx(x, a):\n",
    "        for i in range(len(x)):\n",
    "            if x[i] >= a:\n",
    "                return i-1\n",
    "                \n",
    "    f, Pxx_den = welch(x, fs=300)\n",
    "    u1 = simps(Pxx_den[get_first_idx(f, 5):get_last_idx(f, 15)], x=f[get_first_idx(f, 5):get_last_idx(f, 15)])\n",
    "    u2 = simps(Pxx_den[get_first_idx(f, 5):get_last_idx(f, 40)], x=f[get_first_idx(f, 5):get_last_idx(f, 40)])\n",
    "    u3 = simps(Pxx_den[get_first_idx(f, 1):get_last_idx(f, 40)], x=f[get_first_idx(f, 1):get_last_idx(f, 40)])\n",
    "    u4 = simps(Pxx_den[get_first_idx(f, 0):get_last_idx(f, 40)], x=f[get_first_idx(f, 0):get_last_idx(f, 40)])\n",
    "\n",
    "    pSQI = (u1/u2)\n",
    "    basSQI = (u3/u4)\n",
    "            \n",
    "    detectors = Detectors(down_freq)\n",
    "    \n",
    "    wqrs = _wqrs(x)\n",
    "    eplimited = detectors.hamilton_detector(x)\n",
    "    count = 0\n",
    "    j = 0\n",
    "    k = 0\n",
    "    while j < len(wqrs) and k < len(eplimited):\n",
    "        if wqrs[j] >= eplimited[k]-0.13*fs and wqrs[j] <= eplimited[k]+0.13*fs:\n",
    "            count += 1\n",
    "            j+=1\n",
    "            k+=1\n",
    "        elif wqrs[j] > eplimited[k]:\n",
    "            k+=1\n",
    "        else:\n",
    "            j+=1\n",
    "\n",
    "    bSQI = (count/len(wqrs))\n",
    "    rSQI = (len(wqrs)/(len(wqrs)+len(eplimited)))\n",
    "    \n",
    "    return [sSQI, kSQI, pSQI, basSQI, bSQI, rSQI, target]"
   ]
  },
  {
   "cell_type": "code",
   "execution_count": 300,
   "metadata": {},
   "outputs": [
    {
     "name": "stderr",
     "output_type": "stream",
     "text": [
      "  0%|          | 1/9364 [00:00<17:17,  9.03it/s]"
     ]
    },
    {
     "name": "stdout",
     "output_type": "stream",
     "text": [
      "9364 9364\n"
     ]
    },
    {
     "name": "stderr",
     "output_type": "stream",
     "text": [
      "100%|██████████| 9364/9364 [18:33<00:00,  8.41it/s]\n"
     ]
    }
   ],
   "source": [
    "test_table = pd.DataFrame(columns=['sSQI','kSQI','pSQI','basSQI','bSQI','rSQI', 'target'])\n",
    "count = 0\n",
    "for i in tqdm(range(len(data))):\n",
    "    test_table.loc[count] = get_SQIs(data[i], labels[i])\n",
    "    count += 1"
   ]
  },
  {
   "cell_type": "code",
   "execution_count": 401,
   "metadata": {},
   "outputs": [
    {
     "name": "stderr",
     "output_type": "stream",
     "text": [
      "/Users/Yoav2/opt/anaconda3/lib/python3.8/site-packages/pandas/core/indexing.py:1765: SettingWithCopyWarning: \n",
      "A value is trying to be set on a copy of a slice from a DataFrame.\n",
      "Try using .loc[row_indexer,col_indexer] = value instead\n",
      "\n",
      "See the caveats in the documentation: https://pandas.pydata.org/pandas-docs/stable/user_guide/indexing.html#returning-a-view-versus-a-copy\n",
      "  isetter(loc, value)\n",
      "<ipython-input-401-3b3a134bcd80>:11: SettingWithCopyWarning: \n",
      "A value is trying to be set on a copy of a slice from a DataFrame.\n",
      "Try using .loc[row_indexer,col_indexer] = value instead\n",
      "\n",
      "See the caveats in the documentation: https://pandas.pydata.org/pandas-docs/stable/user_guide/indexing.html#returning-a-view-versus-a-copy\n",
      "  normal_sinus['sSQI'] = normal_sinus['sSQI'].apply(lambda x: (x-sSQI_u) / np.sqrt(sSQI_var))\n",
      "<ipython-input-401-3b3a134bcd80>:12: SettingWithCopyWarning: \n",
      "A value is trying to be set on a copy of a slice from a DataFrame.\n",
      "Try using .loc[row_indexer,col_indexer] = value instead\n",
      "\n",
      "See the caveats in the documentation: https://pandas.pydata.org/pandas-docs/stable/user_guide/indexing.html#returning-a-view-versus-a-copy\n",
      "  normal_sinus['kSQI'] = normal_sinus['kSQI'].apply(lambda x: (x-kSQI_u) / np.sqrt(kSQI_var))\n"
     ]
    },
    {
     "data": {
      "text/html": [
       "<div>\n",
       "<style scoped>\n",
       "    .dataframe tbody tr th:only-of-type {\n",
       "        vertical-align: middle;\n",
       "    }\n",
       "\n",
       "    .dataframe tbody tr th {\n",
       "        vertical-align: top;\n",
       "    }\n",
       "\n",
       "    .dataframe thead th {\n",
       "        text-align: right;\n",
       "    }\n",
       "</style>\n",
       "<table border=\"1\" class=\"dataframe\">\n",
       "  <thead>\n",
       "    <tr style=\"text-align: right;\">\n",
       "      <th></th>\n",
       "      <th>sSQI</th>\n",
       "      <th>kSQI</th>\n",
       "      <th>pSQI</th>\n",
       "      <th>basSQI</th>\n",
       "      <th>bSQI</th>\n",
       "      <th>rSQI</th>\n",
       "      <th>target</th>\n",
       "    </tr>\n",
       "  </thead>\n",
       "  <tbody>\n",
       "    <tr>\n",
       "      <th>5758</th>\n",
       "      <td>1.329666</td>\n",
       "      <td>0.596300</td>\n",
       "      <td>0.396027</td>\n",
       "      <td>0.924491</td>\n",
       "      <td>1.0</td>\n",
       "      <td>0.478261</td>\n",
       "      <td>0.0</td>\n",
       "    </tr>\n",
       "    <tr>\n",
       "      <th>6059</th>\n",
       "      <td>0.678064</td>\n",
       "      <td>-0.183174</td>\n",
       "      <td>0.486470</td>\n",
       "      <td>0.875285</td>\n",
       "      <td>1.0</td>\n",
       "      <td>0.478261</td>\n",
       "      <td>0.0</td>\n",
       "    </tr>\n",
       "    <tr>\n",
       "      <th>6060</th>\n",
       "      <td>0.577332</td>\n",
       "      <td>-0.258003</td>\n",
       "      <td>0.482955</td>\n",
       "      <td>0.881656</td>\n",
       "      <td>1.0</td>\n",
       "      <td>0.478261</td>\n",
       "      <td>0.0</td>\n",
       "    </tr>\n",
       "    <tr>\n",
       "      <th>7756</th>\n",
       "      <td>1.329666</td>\n",
       "      <td>0.596300</td>\n",
       "      <td>0.396027</td>\n",
       "      <td>0.924491</td>\n",
       "      <td>1.0</td>\n",
       "      <td>0.478261</td>\n",
       "      <td>0.0</td>\n",
       "    </tr>\n",
       "    <tr>\n",
       "      <th>9060</th>\n",
       "      <td>0.678064</td>\n",
       "      <td>-0.183174</td>\n",
       "      <td>0.486470</td>\n",
       "      <td>0.875285</td>\n",
       "      <td>1.0</td>\n",
       "      <td>0.478261</td>\n",
       "      <td>0.0</td>\n",
       "    </tr>\n",
       "  </tbody>\n",
       "</table>\n",
       "</div>"
      ],
      "text/plain": [
       "          sSQI      kSQI      pSQI    basSQI  bSQI      rSQI  target\n",
       "5758  1.329666  0.596300  0.396027  0.924491   1.0  0.478261     0.0\n",
       "6059  0.678064 -0.183174  0.486470  0.875285   1.0  0.478261     0.0\n",
       "6060  0.577332 -0.258003  0.482955  0.881656   1.0  0.478261     0.0\n",
       "7756  1.329666  0.596300  0.396027  0.924491   1.0  0.478261     0.0\n",
       "9060  0.678064 -0.183174  0.486470  0.875285   1.0  0.478261     0.0"
      ]
     },
     "execution_count": 401,
     "metadata": {},
     "output_type": "execute_result"
    }
   ],
   "source": [
    "normal_sinus = test_table.loc[test_table['target'] == '270492004,164931005']\n",
    "normal_sinus.loc[:,'target'] = 0.0\n",
    "\n",
    "sSQI_u = 0.593\n",
    "kSQI_u = 12.19\n",
    "\n",
    "sSQI_var = 4.87\n",
    "kSQI_var = 218.52\n",
    "\n",
    "\n",
    "normal_sinus['sSQI'] = normal_sinus['sSQI'].apply(lambda x: (x-sSQI_u) / np.sqrt(sSQI_var))\n",
    "normal_sinus['kSQI'] = normal_sinus['kSQI'].apply(lambda x: (x-kSQI_u) / np.sqrt(kSQI_var))\n",
    "\n",
    "normal_sinus.head()"
   ]
  },
  {
   "cell_type": "code",
   "execution_count": 402,
   "metadata": {},
   "outputs": [
    {
     "data": {
      "text/plain": [
       "1.0"
      ]
     },
     "execution_count": 402,
     "metadata": {},
     "output_type": "execute_result"
    }
   ],
   "source": [
    "from joblib import dump, load\n",
    "from sklearn.model_selection import train_test_split\n",
    "from sklearn.svm import SVC\n",
    "from sklearn.metrics import confusion_matrix, ConfusionMatrixDisplay\n",
    "\n",
    "model = load('model.joblib')\n",
    "x = normal_sinus.drop(['target'], axis='columns')\n",
    "y = normal_sinus.target\n",
    "\n",
    "model.score(x, y)"
   ]
  },
  {
   "cell_type": "code",
   "execution_count": 263,
   "metadata": {},
   "outputs": [
    {
     "name": "stdout",
     "output_type": "stream",
     "text": [
      "426783006\n"
     ]
    },
    {
     "data": {
      "text/plain": [
       "[<matplotlib.lines.Line2D at 0x7feb966b0520>]"
      ]
     },
     "execution_count": 263,
     "metadata": {},
     "output_type": "execute_result"
    },
    {
     "data": {
      "image/png": "[encoded data removed]",
      "text/plain": [
       "<Figure size 432x288 with 1 Axes>"
      ]
     },
     "metadata": {
      "needs_background": "light"
     },
     "output_type": "display_data"
    }
   ],
   "source": [
    "print(labels[5])\n",
    "plt.plot(data[5])"
   ]
  },
  {
   "cell_type": "code",
   "execution_count": null,
   "metadata": {},
   "outputs": [],
   "source": []
  }
 ],
 "metadata": {
  "kernelspec": {
   "display_name": "Python 3",
   "language": "python",
   "name": "python3"
  },
  "language_info": {
   "codemirror_mode": {
    "name": "ipython",
    "version": 3
   },
   "file_extension": ".py",
   "mimetype": "text/x-python",
   "name": "python",
   "nbconvert_exporter": "python",
   "pygments_lexer": "ipython3",
   "version": "3.8.5"
  }
 },
 "nbformat": 4,
 "nbformat_minor": 4
}
